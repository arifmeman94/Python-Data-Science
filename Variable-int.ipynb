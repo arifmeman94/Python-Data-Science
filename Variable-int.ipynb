{
 "cells": [
  {
   "cell_type": "code",
   "execution_count": 1,
   "metadata": {},
   "outputs": [
    {
     "name": "stdout",
     "output_type": "stream",
     "text": [
      "10\n"
     ]
    },
    {
     "data": {
      "text/plain": [
       "int"
      ]
     },
     "execution_count": 1,
     "metadata": {},
     "output_type": "execute_result"
    }
   ],
   "source": [
    "a = 10\n",
    "print(a)\n",
    "type(a)"
   ]
  },
  {
   "cell_type": "markdown",
   "metadata": {},
   "source": [
    "# Methods Related to Int"
   ]
  },
  {
   "cell_type": "code",
   "execution_count": 2,
   "metadata": {},
   "outputs": [
    {
     "name": "stdout",
     "output_type": "stream",
     "text": [
      "10\n",
      "Bit Required to represent a is: 4\n"
     ]
    }
   ],
   "source": [
    "# bit_length() : returns the number of bits required to represent an integer in binary.\n",
    "a = 10\n",
    "print(a)\n",
    "bit_len = a.bit_length()\n",
    "print(\"Bit Required to represent a is:\", bit_len)"
   ]
  },
  {
   "cell_type": "code",
   "execution_count": 11,
   "metadata": {},
   "outputs": [
    {
     "name": "stdout",
     "output_type": "stream",
     "text": [
      "b'\\x00\\n'\n",
      "b'\\x04\\x00'\n",
      "b'\\x00\\x04'\n"
     ]
    }
   ],
   "source": [
    "#to_bytes(length, byteorder, signed=False) : returns an array of bytes representing the integer.\n",
    "# here length can be given any integer, for the number of bytes you want to use to represent that integer value.\n",
    "# int can be represented in binary form, and each byte is of 8 bits.\n",
    "# exp : a = 1024 \n",
    "# now you can do this in binary like : 10000000000\n",
    "# now if in to_bytes(2, byteorder='big')\n",
    "# then we can split it in to 2 bytes : first: 00000100, second: 00000000\n",
    "# so, here length is more than nessesary (required) so, first 5 0's are padded before 100, and another 8 bit bunch will be for another byte\n",
    "\n",
    "a = 10\n",
    "to_byte = a.to_bytes(2, byteorder='big')\n",
    "print(to_byte)\n",
    "\n",
    "# another example\n",
    "# length you should give enough to represent the int, otherwise you will get error.\n",
    "# otherwise you will get overflow error\n",
    "# OverflowError: int too big to convert\n",
    "# output explanation : \n",
    "# as above we show it will convert 1024 in 2 bytes, first: 00000100, second: 00000000\n",
    "# then first we can represent as x04 and second x0\n",
    "# x04 : 00000100 : from right to left : 2 pow 0+2 pow 1+2 pow 2 , here only 3rd bit is available as True, so it will be 2 pow 2 = 4\n",
    "# another part is all 0s so, x0\n",
    "b = 1024\n",
    "to_byte2_big = b.to_bytes(2,byteorder='big')\n",
    "print(to_byte2_big)\n",
    "to_byte_little = b.to_bytes(2, byteorder='little')\n",
    "print(to_byte_little)"
   ]
  },
  {
   "cell_type": "code",
   "execution_count": 13,
   "metadata": {},
   "outputs": [
    {
     "name": "stdout",
     "output_type": "stream",
     "text": [
      "8\n"
     ]
    }
   ],
   "source": [
    "# add(self,other)\n",
    "a = 5\n",
    "b = 3\n",
    "c = a.__add__(b)\n",
    "print(c)"
   ]
  },
  {
   "cell_type": "code",
   "execution_count": 17,
   "metadata": {},
   "outputs": [
    {
     "name": "stdout",
     "output_type": "stream",
     "text": [
      "byteorder big b'\\x04\\x00'\n",
      "byteorder little b'\\x00\\x04'\n"
     ]
    }
   ],
   "source": [
    "#from_bytes(bytes, byteorder, signed=False) : converts byte array to an integer\n",
    "# as in above example we converted 10 and 1024 to bytes, now we can reverse it with this method\n",
    "a = 1024\n",
    "o = a.to_bytes(2,byteorder='big')\n",
    "o2 = a.to_bytes(2,byteorder='little')\n",
    "print(\"byteorder big\",o)\n",
    "print(\"byteorder little\",o2)\n",
    "# o will convert 1024 to bytes\n"
   ]
  },
  {
   "cell_type": "code",
   "execution_count": null,
   "metadata": {},
   "outputs": [],
   "source": []
  }
 ],
 "metadata": {
  "kernelspec": {
   "display_name": ".venv",
   "language": "python",
   "name": "python3"
  },
  "language_info": {
   "codemirror_mode": {
    "name": "ipython",
    "version": 3
   },
   "file_extension": ".py",
   "mimetype": "text/x-python",
   "name": "python",
   "nbconvert_exporter": "python",
   "pygments_lexer": "ipython3",
   "version": "3.11.11"
  }
 },
 "nbformat": 4,
 "nbformat_minor": 2
}
